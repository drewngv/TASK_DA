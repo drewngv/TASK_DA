{
 "cells": [
  {
   "cell_type": "code",
   "execution_count": 1,
   "id": "373ac01e",
   "metadata": {},
   "outputs": [],
   "source": [
    "import findspark \n",
    "findspark.init()\n",
    "findspark.find()\n",
    "from pyspark.sql import SparkSession\n",
    "import pandas as pd\n",
    "from datetime import datetime, timedelta,date\n",
    "import pyspark.sql.functions as F\n",
    "import numpy as np\n",
    "import matplotlib.pyplot as plt\n",
    "import seaborn as sns \n",
    "import datetime as dt\n",
    "import xlsxwriter\n",
    "from sklearn.linear_model import LinearRegression \n",
    "from pyspark.ml.recommendation import ALS\n",
    "from pyspark.ml.evaluation import RegressionEvaluator\n",
    "from pyspark.sql.types import IntegerType, FloatType ,DateType\n",
    "from pyspark.ml.feature import StringIndexer\n",
    "from pyspark.ml import Pipeline"
   ]
  },
  {
   "cell_type": "code",
   "execution_count": 2,
   "id": "f3f5507d",
   "metadata": {},
   "outputs": [
    {
     "name": "stdout",
     "output_type": "stream",
     "text": [
      "+-------+------+------+-------------------+--------------------+--------------------+\n",
      "|movieId|userId|rating|          timestamp|               title|              genres|\n",
      "+-------+------+------+-------------------+--------------------+--------------------+\n",
      "|      2|     1|   3.5|2005-04-02 23:53:47|      Jumanji (1995)|Adventure|Childre...|\n",
      "|     29|     1|   3.5|2005-04-02 23:31:16|City of Lost Chil...|Adventure|Drama|F...|\n",
      "|     32|     1|   3.5|2005-04-02 23:33:39|Twelve Monkeys (a...|Mystery|Sci-Fi|Th...|\n",
      "|     47|     1|   3.5|2005-04-02 23:32:07|Seven (a.k.a. Se7...|    Mystery|Thriller|\n",
      "|     50|     1|   3.5|2005-04-02 23:29:40|Usual Suspects, T...|Crime|Mystery|Thr...|\n",
      "|    112|     1|   3.5|2004-09-10 03:09:00|Rumble in the Bro...|Action|Adventure|...|\n",
      "|    151|     1|   4.0|2004-09-10 03:08:54|      Rob Roy (1995)|Action|Drama|Roma...|\n",
      "|    223|     1|   4.0|2005-04-02 23:46:13|       Clerks (1994)|              Comedy|\n",
      "|    253|     1|   4.0|2005-04-02 23:35:40|Interview with th...|        Drama|Horror|\n",
      "|    260|     1|   4.0|2005-04-02 23:33:46|Star Wars: Episod...|Action|Adventure|...|\n",
      "|    293|     1|   4.0|2005-04-02 23:31:43|Léon: The Profess...|Action|Crime|Dram...|\n",
      "|    296|     1|   4.0|2005-04-02 23:32:47| Pulp Fiction (1994)|Comedy|Crime|Dram...|\n",
      "|    318|     1|   4.0|2005-04-02 23:33:18|Shawshank Redempt...|         Crime|Drama|\n",
      "|    337|     1|   3.5|2004-09-10 03:08:29|What's Eating Gil...|               Drama|\n",
      "|    367|     1|   3.5|2005-04-02 23:53:00|    Mask, The (1994)|Action|Comedy|Cri...|\n",
      "|    541|     1|   4.0|2005-04-02 23:30:03| Blade Runner (1982)|Action|Sci-Fi|Thr...|\n",
      "|    589|     1|   3.5|2005-04-02 23:45:57|Terminator 2: Jud...|       Action|Sci-Fi|\n",
      "|    593|     1|   3.5|2005-04-02 23:31:01|Silence of the La...|Crime|Horror|Thri...|\n",
      "|    653|     1|   3.0|2004-09-10 03:08:11|  Dragonheart (1996)|Action|Adventure|...|\n",
      "|    919|     1|   3.5|2004-09-10 03:07:01|Wizard of Oz, The...|Adventure|Childre...|\n",
      "+-------+------+------+-------------------+--------------------+--------------------+\n",
      "only showing top 20 rows\n",
      "\n"
     ]
    }
   ],
   "source": [
    "spark = SparkSession.builder.config('spark.executor.memory','4G').appName('recommend').config('spark.driver.cores','4').config('spark.driver.memory','4G').config('spark.driver.maxResultSize','4G').getOrCreate()\n",
    "df=spark.read.csv('C:/Users/PC/Downloads/rating.csv',header=True,inferSchema=True)\n",
    "df2=spark.read.csv('C:/Users/PC/Downloads/movie.csv',header=True,inferSchema=True)\n",
    "df_final=df.join(df2,on='movieId',how='inner')\n",
    "df_final.show()"
   ]
  },
  {
   "cell_type": "code",
   "execution_count": 3,
   "id": "fb11e240",
   "metadata": {
    "scrolled": false
   },
   "outputs": [
    {
     "name": "stdout",
     "output_type": "stream",
     "text": [
      "+-------+------+------+-------------------+----------------+--------------------+----------+\n",
      "|movieId|userId|rating|          timestamp|           title|              genres|prediction|\n",
      "+-------+------+------+-------------------+----------------+--------------------+----------+\n",
      "|      1|   159|   5.0|1996-12-16 17:47:30|Toy Story (1995)|Adventure|Animati...|  4.559891|\n",
      "|      1| 11748|   3.5|2012-02-18 19:56:44|Toy Story (1995)|Adventure|Animati...| 3.5113256|\n",
      "|      1| 11858|   2.0|1997-06-12 08:19:21|Toy Story (1995)|Adventure|Animati...| 3.0455782|\n",
      "|      1| 11885|   3.0|1996-11-06 12:55:33|Toy Story (1995)|Adventure|Animati...| 3.7539809|\n",
      "|      1| 11928|   4.5|2011-08-23 22:42:32|Toy Story (1995)|Adventure|Animati...| 4.3567924|\n",
      "|      1| 23323|   4.0|2014-12-09 23:33:24|Toy Story (1995)|Adventure|Animati...|  3.014052|\n",
      "|      1| 23408|   4.0|1996-05-27 09:35:04|Toy Story (1995)|Adventure|Animati...| 4.2978706|\n",
      "|      1| 23421|   4.0|2000-09-06 20:22:37|Toy Story (1995)|Adventure|Animati...| 4.3600755|\n",
      "|      1| 23424|   4.0|2000-11-05 01:29:01|Toy Story (1995)|Adventure|Animati...|  4.227794|\n",
      "|      1| 23428|   5.0|2012-02-21 17:35:11|Toy Story (1995)|Adventure|Animati...|  4.881026|\n",
      "|      1| 23491|   4.0|2001-08-13 18:32:02|Toy Story (1995)|Adventure|Animati...| 3.8401165|\n",
      "|      1| 23523|   4.0|2004-05-31 02:21:54|Toy Story (1995)|Adventure|Animati...| 3.6570911|\n",
      "|      1| 23596|   2.5|2006-04-06 11:31:01|Toy Story (1995)|Adventure|Animati...| 3.8526247|\n",
      "|      1| 35184|   3.5|2007-09-01 20:08:35|Toy Story (1995)|Adventure|Animati...| 2.9783304|\n",
      "|      1| 46781|   3.0|2005-02-04 00:18:37|Toy Story (1995)|Adventure|Animati...| 3.0296037|\n",
      "|      1| 46887|   2.0|2005-04-29 13:33:05|Toy Story (1995)|Adventure|Animati...| 3.4988728|\n",
      "|      1| 58665|   4.0|2010-04-11 02:19:17|Toy Story (1995)|Adventure|Animati...| 3.8759642|\n",
      "|      1| 58819|   4.0|1997-07-06 17:10:10|Toy Story (1995)|Adventure|Animati...| 3.2131815|\n",
      "|      1| 58846|   4.0|2008-11-13 15:13:02|Toy Story (1995)|Adventure|Animati...| 3.9408555|\n",
      "|      1| 70395|   3.5|2012-09-07 18:47:39|Toy Story (1995)|Adventure|Animati...| 3.2186913|\n",
      "+-------+------+------+-------------------+----------------+--------------------+----------+\n",
      "only showing top 20 rows\n",
      "\n"
     ]
    }
   ],
   "source": [
    "training,test = df_final.randomSplit([0.8,0.2])\n",
    "als = ALS(maxIter=5, regParam=0.01, userCol='userId', itemCol='movieId', ratingCol='rating')\n",
    "model=als.fit(training)\n",
    "predictions=model.transform(test)\n",
    "predictions.show()"
   ]
  },
  {
   "cell_type": "code",
   "execution_count": 4,
   "id": "8099dddc",
   "metadata": {
    "scrolled": true
   },
   "outputs": [],
   "source": [
    "# test_id_22 = df_final.filter(df_final['userId']==22).select(['title','userId','movieId'])\n",
    "# recommendation=model.transform(test_id_22)\n",
    "# recommendation.orderBy('prediction',ascending=False).show()"
   ]
  },
  {
   "cell_type": "markdown",
   "id": "78e1478a",
   "metadata": {},
   "source": [
    "#### Top 10 bộ phim được khuyến nghị cho mỗi người dùng"
   ]
  },
  {
   "cell_type": "code",
   "execution_count": 5,
   "id": "9340e354",
   "metadata": {
    "scrolled": true
   },
   "outputs": [
    {
     "name": "stderr",
     "output_type": "stream",
     "text": [
      "C:\\spark-3.2.1-bin-hadoop2.7\\python\\pyspark\\sql\\context.py:125: FutureWarning: Deprecated in 3.0.0. Use SparkSession.builder.getOrCreate() instead.\n",
      "  warnings.warn(\n"
     ]
    },
    {
     "name": "stdout",
     "output_type": "stream",
     "text": [
      "+------+--------------------+\n",
      "|userId|     recommendations|\n",
      "+------+--------------------+\n",
      "|    28|[{106156, 14.4870...|\n",
      "|    31|[{86491, 18.82240...|\n",
      "|    34|[{60356, 11.25679...|\n",
      "|    53|[{82261, 10.58772...|\n",
      "|    65|[{93921, 9.337675...|\n",
      "|    78|[{96255, 17.99517...|\n",
      "|    81|[{96255, 15.72323...|\n",
      "|    85|[{81975, 10.57123...|\n",
      "|   101|[{109953, 9.83567...|\n",
      "|   108|[{81898, 10.92555...|\n",
      "|   115|[{89632, 9.027865...|\n",
      "|   126|[{60356, 10.70423...|\n",
      "|   133|[{73390, 9.430267...|\n",
      "|   137|[{126219, 9.69088...|\n",
      "|   148|[{98126, 11.71515...|\n",
      "|   155|[{86491, 9.923155...|\n",
      "|   183|[{82051, 14.03629...|\n",
      "|   193|[{71482, 19.44056...|\n",
      "|   210|[{77931, 17.32062...|\n",
      "|   211|[{84485, 9.688506...|\n",
      "+------+--------------------+\n",
      "only showing top 20 rows\n",
      "\n"
     ]
    }
   ],
   "source": [
    "userRecs = model.recommendForAllUsers(10)\n",
    "userRecs.show()"
   ]
  },
  {
   "cell_type": "markdown",
   "id": "0b7e5da1",
   "metadata": {},
   "source": [
    "#### Top 10 bộ phim được recommend cho người dùng có ID = 22 "
   ]
  },
  {
   "cell_type": "code",
   "execution_count": 6,
   "id": "3c59dfe0",
   "metadata": {},
   "outputs": [
    {
     "name": "stdout",
     "output_type": "stream",
     "text": [
      "+------+--------------------+\n",
      "|userId|     recommendations|\n",
      "+------+--------------------+\n",
      "|    22|[{73529, 10.55327...|\n",
      "+------+--------------------+\n",
      "\n"
     ]
    }
   ],
   "source": [
    "users = df_final.filter(df_final['userId']==22)\n",
    "userSubsetRecs = model.recommendForUserSubset(users, 10)\n",
    "userSubsetRecs.show()"
   ]
  },
  {
   "cell_type": "code",
   "execution_count": 7,
   "id": "79bc5238",
   "metadata": {},
   "outputs": [
    {
     "data": {
      "text/html": [
       "<div>\n",
       "<style scoped>\n",
       "    .dataframe tbody tr th:only-of-type {\n",
       "        vertical-align: middle;\n",
       "    }\n",
       "\n",
       "    .dataframe tbody tr th {\n",
       "        vertical-align: top;\n",
       "    }\n",
       "\n",
       "    .dataframe thead th {\n",
       "        text-align: right;\n",
       "    }\n",
       "</style>\n",
       "<table border=\"1\" class=\"dataframe\">\n",
       "  <thead>\n",
       "    <tr style=\"text-align: right;\">\n",
       "      <th></th>\n",
       "      <th>movieId</th>\n",
       "      <th>title</th>\n",
       "      <th>genres</th>\n",
       "    </tr>\n",
       "  </thead>\n",
       "  <tbody>\n",
       "    <tr>\n",
       "      <th>0</th>\n",
       "      <td>73529</td>\n",
       "      <td>God’s Wedding (As Bodas de Deus) (1999)</td>\n",
       "      <td>Comedy</td>\n",
       "    </tr>\n",
       "    <tr>\n",
       "      <th>1</th>\n",
       "      <td>81898</td>\n",
       "      <td>Agony and the Ecstasy of Phil Spector, The (2009)</td>\n",
       "      <td>Documentary</td>\n",
       "    </tr>\n",
       "    <tr>\n",
       "      <th>2</th>\n",
       "      <td>82051</td>\n",
       "      <td>Dishonored (1931)</td>\n",
       "      <td>Drama|War</td>\n",
       "    </tr>\n",
       "    <tr>\n",
       "      <th>3</th>\n",
       "      <td>105084</td>\n",
       "      <td>Grand Masti (2013)</td>\n",
       "      <td>Comedy|Drama|Romance</td>\n",
       "    </tr>\n",
       "    <tr>\n",
       "      <th>4</th>\n",
       "      <td>120813</td>\n",
       "      <td>Patton Oswalt: My Weakness Is Strong (2009)</td>\n",
       "      <td>Comedy</td>\n",
       "    </tr>\n",
       "    <tr>\n",
       "      <th>5</th>\n",
       "      <td>89349</td>\n",
       "      <td>Misérables, Les (1934)</td>\n",
       "      <td>Drama</td>\n",
       "    </tr>\n",
       "    <tr>\n",
       "      <th>6</th>\n",
       "      <td>81975</td>\n",
       "      <td>Statues Also Die (Statues meurent aussi, Les) ...</td>\n",
       "      <td>Documentary</td>\n",
       "    </tr>\n",
       "    <tr>\n",
       "      <th>7</th>\n",
       "      <td>88092</td>\n",
       "      <td>Education for Death (1943)</td>\n",
       "      <td>Animation|Comedy</td>\n",
       "    </tr>\n",
       "    <tr>\n",
       "      <th>8</th>\n",
       "      <td>91517</td>\n",
       "      <td>Death King, The (Der Todesking) (1990)</td>\n",
       "      <td>Drama|Horror</td>\n",
       "    </tr>\n",
       "    <tr>\n",
       "      <th>9</th>\n",
       "      <td>84504</td>\n",
       "      <td>Raja (2003)</td>\n",
       "      <td>Drama</td>\n",
       "    </tr>\n",
       "  </tbody>\n",
       "</table>\n",
       "</div>"
      ],
      "text/plain": [
       "   movieId                                              title  \\\n",
       "0    73529            God’s Wedding (As Bodas de Deus) (1999)   \n",
       "1    81898  Agony and the Ecstasy of Phil Spector, The (2009)   \n",
       "2    82051                                  Dishonored (1931)   \n",
       "3   105084                                 Grand Masti (2013)   \n",
       "4   120813        Patton Oswalt: My Weakness Is Strong (2009)   \n",
       "5    89349                             Misérables, Les (1934)   \n",
       "6    81975  Statues Also Die (Statues meurent aussi, Les) ...   \n",
       "7    88092                         Education for Death (1943)   \n",
       "8    91517             Death King, The (Der Todesking) (1990)   \n",
       "9    84504                                        Raja (2003)   \n",
       "\n",
       "                 genres  \n",
       "0                Comedy  \n",
       "1           Documentary  \n",
       "2             Drama|War  \n",
       "3  Comedy|Drama|Romance  \n",
       "4                Comedy  \n",
       "5                 Drama  \n",
       "6           Documentary  \n",
       "7      Animation|Comedy  \n",
       "8          Drama|Horror  \n",
       "9                 Drama  "
      ]
     },
     "execution_count": 7,
     "metadata": {},
     "output_type": "execute_result"
    }
   ],
   "source": [
    "df_movie=df2.toPandas()\n",
    "a=list(userSubsetRecs.select('recommendations').toPandas()['recommendations'])\n",
    "b=list(a[0][i][0] for i in range(10))\n",
    "list_movie=pd.DataFrame()\n",
    "list_movie['movieId']=b\n",
    "list_movie.merge(df_movie,on='movieId',how='inner')"
   ]
  },
  {
   "cell_type": "code",
   "execution_count": null,
   "id": "f5595756",
   "metadata": {},
   "outputs": [],
   "source": []
  }
 ],
 "metadata": {
  "kernelspec": {
   "display_name": "Python 3 (ipykernel)",
   "language": "python",
   "name": "python3"
  },
  "language_info": {
   "codemirror_mode": {
    "name": "ipython",
    "version": 3
   },
   "file_extension": ".py",
   "mimetype": "text/x-python",
   "name": "python",
   "nbconvert_exporter": "python",
   "pygments_lexer": "ipython3",
   "version": "3.10.4"
  }
 },
 "nbformat": 4,
 "nbformat_minor": 5
}
