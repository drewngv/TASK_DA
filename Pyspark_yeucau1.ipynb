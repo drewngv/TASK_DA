{
 "cells": [
  {
   "cell_type": "code",
   "execution_count": 1,
   "id": "2cf4a21b",
   "metadata": {},
   "outputs": [],
   "source": [
    "import findspark \n",
    "findspark.init()\n",
    "findspark.find()\n",
    "from pyspark.sql.types import IntegerType, FloatType ,DateType\n",
    "from pyspark.sql import SparkSession\n",
    "import pyspark.sql.functions as F\n",
    "from pyspark.sql.functions import *\n",
    "import matplotlib.pyplot as plt\n",
    "import numpy as np"
   ]
  },
  {
   "cell_type": "code",
   "execution_count": 2,
   "id": "d7e899f7",
   "metadata": {},
   "outputs": [],
   "source": [
    "spark = SparkSession \\\n",
    "    .builder \\\n",
    "    .appName(\"pyspark1 \") \\\n",
    "    .config(\"spark.some.config.option\", \"some-value\") \\\n",
    "    .getOrCreate()"
   ]
  },
  {
   "cell_type": "markdown",
   "id": "c7b7c00c",
   "metadata": {},
   "source": [
    "### Task 1 "
   ]
  },
  {
   "cell_type": "code",
   "execution_count": 3,
   "id": "d15e7415",
   "metadata": {},
   "outputs": [
    {
     "name": "stdout",
     "output_type": "stream",
     "text": [
      "+-----------+\n",
      "|avg(income)|\n",
      "+-----------+\n",
      "|   13859.62|\n",
      "+-----------+\n",
      "\n"
     ]
    }
   ],
   "source": [
    "df = spark.read.csv(\"C:/Users/PC/Downloads/practiceDA.csv\", header =True)\n",
    "df= df.withColumn('Code', F.col('Code').cast(IntegerType()))\\\n",
    "        .withColumn('age', F.col('age').cast(IntegerType()))\\\n",
    "        .withColumn('year_of_school',F.col('year_of_school').cast(IntegerType()))\\\n",
    "        .withColumn('know_english', F.col('know_english').cast(IntegerType()))\\\n",
    "        .withColumn('know_france', F.col('know_france').cast(IntegerType()))\\\n",
    "        .withColumn('know_chinese', F.col('know_chinese').cast(IntegerType()))\\\n",
    "        .withColumn('income', F.col('income').cast(IntegerType()))\\\n",
    "        .withColumn('flight_status', F.col('flight_status').cast(IntegerType()))\\\n",
    "        .withColumn('professionally_staff', F.col('professionally_staff').cast(IntegerType()))\\\n",
    "        .withColumn('customer_service ', F.col('customer_service ').cast(IntegerType()))\\\n",
    "        .withColumn('diversity_product', F.col('diversity_product').cast(IntegerType()))\\\n",
    "        .withColumn('good_price', F.col('good_price').cast(IntegerType()))\\\n",
    "        .withColumn('easily_transaction', F.col('easily_transaction').cast(IntegerType()))\\\n",
    "        .withColumn('goodlooking_staff', F.col('goodlooking_staff').cast(IntegerType()))\\\n",
    "        .withColumn('diversity_flighttime', F.col('diversity_flighttime').cast(IntegerType()))\\\n",
    "        .withColumn('good_construction', F.col('good_construction').cast(IntegerType()))\n",
    "df.agg({'income':'mean'}).show()"
   ]
  },
  {
   "cell_type": "code",
   "execution_count": 4,
   "id": "c2d5eed9",
   "metadata": {},
   "outputs": [
    {
     "data": {
      "text/plain": [
       "11520.0"
      ]
     },
     "execution_count": 4,
     "metadata": {},
     "output_type": "execute_result"
    }
   ],
   "source": [
    "data = df.toPandas() \n",
    "data['income'].median()"
   ]
  },
  {
   "cell_type": "code",
   "execution_count": 5,
   "id": "9c41dbd5",
   "metadata": {},
   "outputs": [
    {
     "data": {
      "text/plain": [
       "0    12300\n",
       "Name: income, dtype: int32"
      ]
     },
     "execution_count": 5,
     "metadata": {},
     "output_type": "execute_result"
    }
   ],
   "source": [
    "data['income'].mode()"
   ]
  },
  {
   "cell_type": "markdown",
   "id": "d9bf28b1",
   "metadata": {},
   "source": [
    "### Task 2 "
   ]
  },
  {
   "cell_type": "code",
   "execution_count": 6,
   "id": "5104ba6f",
   "metadata": {},
   "outputs": [
    {
     "data": {
      "text/plain": [
       "Text(0.5, 1.0, 'Thu nhập trung bình từng khu vực')"
      ]
     },
     "execution_count": 6,
     "metadata": {},
     "output_type": "execute_result"
    },
    {
     "data": {
      "image/png": "[encoded data removed]",
      "text/plain": [
       "<Figure size 432x288 with 1 Axes>"
      ]
     },
     "metadata": {
      "needs_background": "light"
     },
     "output_type": "display_data"
    }
   ],
   "source": [
    "ax=data.groupby('area')['income'].mean().plot.bar()\n",
    "for i in ax.containers:\n",
    "    ax.bar_label(i)\n",
    "plt.ylabel('Thu nhập trung bình')\n",
    "plt.xlabel('Khu vực')\n",
    "plt.title('Thu nhập trung bình từng khu vực')"
   ]
  },
  {
   "cell_type": "markdown",
   "id": "cb2a6776",
   "metadata": {},
   "source": [
    "### Task 3 "
   ]
  },
  {
   "cell_type": "code",
   "execution_count": 7,
   "id": "404f9553",
   "metadata": {},
   "outputs": [
    {
     "name": "stdout",
     "output_type": "stream",
     "text": [
      "+-------------------+\n",
      "|avg(year_of_school)|\n",
      "+-------------------+\n",
      "| 13.763157894736842|\n",
      "+-------------------+\n",
      "\n"
     ]
    }
   ],
   "source": [
    "df.filter((df['gender']=='male')&(df['job']=='officer')).agg({'year_of_school':'mean'}).show()"
   ]
  },
  {
   "cell_type": "markdown",
   "id": "d7c7acda",
   "metadata": {},
   "source": [
    "### Task 4 "
   ]
  },
  {
   "cell_type": "code",
   "execution_count": 8,
   "id": "64c8f524",
   "metadata": {},
   "outputs": [
    {
     "name": "stdout",
     "output_type": "stream",
     "text": [
      "+-----------------+\n",
      "|         avg(age)|\n",
      "+-----------------+\n",
      "|62.96808510638298|\n",
      "+-----------------+\n",
      "\n"
     ]
    }
   ],
   "source": [
    "female_area=df.filter(df['gender']=='female')\n",
    "female_area.filter(female_area['area']=='northern').agg({'age':'mean'}).show()"
   ]
  },
  {
   "cell_type": "code",
   "execution_count": 9,
   "id": "dc33cd4a",
   "metadata": {},
   "outputs": [
    {
     "name": "stdout",
     "output_type": "stream",
     "text": [
      "+--------+\n",
      "|avg(age)|\n",
      "+--------+\n",
      "|  53.375|\n",
      "+--------+\n",
      "\n"
     ]
    }
   ],
   "source": [
    "female_area.filter(female_area['area']=='southern').agg({'age':'mean'}).show()"
   ]
  },
  {
   "cell_type": "markdown",
   "id": "696c00eb",
   "metadata": {},
   "source": [
    "### Task 5 "
   ]
  },
  {
   "cell_type": "code",
   "execution_count": 10,
   "id": "d7735aa1",
   "metadata": {},
   "outputs": [
    {
     "name": "stdout",
     "output_type": "stream",
     "text": [
      "+------------------+\n",
      "|          avg(age)|\n",
      "+------------------+\n",
      "|43.486666666666665|\n",
      "+------------------+\n",
      "\n"
     ]
    }
   ],
   "source": [
    "df.orderBy('age').limit(150).agg({'age':'mean'}).show()"
   ]
  },
  {
   "cell_type": "markdown",
   "id": "622e7599",
   "metadata": {},
   "source": [
    "### Task 6 "
   ]
  },
  {
   "cell_type": "code",
   "execution_count": 11,
   "id": "3e0b5656",
   "metadata": {},
   "outputs": [
    {
     "name": "stdout",
     "output_type": "stream",
     "text": [
      "+-----------+\n",
      "|avg(income)|\n",
      "+-----------+\n",
      "|    10274.3|\n",
      "+-----------+\n",
      "\n"
     ]
    }
   ],
   "source": [
    "df.orderBy('age').limit(100).agg({'income':'mean'}).show()"
   ]
  },
  {
   "cell_type": "markdown",
   "id": "b1efc8ca",
   "metadata": {},
   "source": [
    "### Task 7 "
   ]
  },
  {
   "cell_type": "code",
   "execution_count": 12,
   "id": "2b9df787",
   "metadata": {},
   "outputs": [
    {
     "name": "stdout",
     "output_type": "stream",
     "text": [
      "+-------------------+\n",
      "|avg(year_of_school)|\n",
      "+-------------------+\n",
      "|              17.94|\n",
      "+-------------------+\n",
      "\n"
     ]
    }
   ],
   "source": [
    "df.orderBy(df['income'].desc()).limit(50).agg({'year_of_school':'mean'}).show()"
   ]
  },
  {
   "cell_type": "markdown",
   "id": "23be06cd",
   "metadata": {},
   "source": [
    "### Task 8 "
   ]
  },
  {
   "cell_type": "code",
   "execution_count": 13,
   "id": "82886886",
   "metadata": {},
   "outputs": [
    {
     "name": "stdout",
     "output_type": "stream",
     "text": [
      "+---------+-----------+\n",
      "|   degree|count(Code)|\n",
      "+---------+-----------+\n",
      "|highshool|        257|\n",
      "|   master|        114|\n",
      "| bachelor|        129|\n",
      "+---------+-----------+\n",
      "\n"
     ]
    }
   ],
   "source": [
    "df.groupby('degree').agg({'Code':'count'}).show()"
   ]
  },
  {
   "cell_type": "markdown",
   "id": "09e05da7",
   "metadata": {},
   "source": [
    "### Task 9 "
   ]
  },
  {
   "cell_type": "code",
   "execution_count": 14,
   "id": "c61f6913",
   "metadata": {},
   "outputs": [
    {
     "data": {
      "text/plain": [
       "Text(0.5, 1.0, 'Tỷ trọng khách hàng theo nhóm tuổi và giới tính ')"
      ]
     },
     "execution_count": 14,
     "metadata": {},
     "output_type": "execute_result"
    },
    {
     "data": {
      "image/png": "[encoded data removed]",
      "text/plain": [
       "<Figure size 432x288 with 1 Axes>"
      ]
     },
     "metadata": {
      "needs_background": "light"
     },
     "output_type": "display_data"
    }
   ],
   "source": [
    "data.pivot_table(values='Code',columns='gender',index='age_group',aggfunc=\"count\").plot.bar()\n",
    "plt.xlabel('Nhóm tuổi')\n",
    "plt.ylabel('Số lượng khách hàng')\n",
    "plt.title('Tỷ trọng khách hàng theo nhóm tuổi và giới tính ')"
   ]
  },
  {
   "cell_type": "code",
   "execution_count": null,
   "id": "08062dc0",
   "metadata": {},
   "outputs": [],
   "source": []
  }
 ],
 "metadata": {
  "kernelspec": {
   "display_name": "Python 3 (ipykernel)",
   "language": "python",
   "name": "python3"
  },
  "language_info": {
   "codemirror_mode": {
    "name": "ipython",
    "version": 3
   },
   "file_extension": ".py",
   "mimetype": "text/x-python",
   "name": "python",
   "nbconvert_exporter": "python",
   "pygments_lexer": "ipython3",
   "version": "3.10.4"
  }
 },
 "nbformat": 4,
 "nbformat_minor": 5
}
