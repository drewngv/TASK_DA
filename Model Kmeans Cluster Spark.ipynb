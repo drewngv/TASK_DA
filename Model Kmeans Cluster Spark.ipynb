{
 "cells": [
  {
   "cell_type": "code",
   "execution_count": 1,
   "id": "c9e1433a",
   "metadata": {},
   "outputs": [],
   "source": [
    "import findspark \n",
    "findspark.init()\n",
    "findspark.find()\n",
    "from pyspark.sql import SparkSession\n",
    "import pandas as pd\n",
    "from datetime import datetime, timedelta,date\n",
    "import pyspark.sql.functions as F\n",
    "import numpy as np\n",
    "import matplotlib.pyplot as plt\n",
    "import seaborn as sns \n",
    "import datetime as dt\n",
    "import xlsxwriter\n",
    "from sklearn.linear_model import LinearRegression \n",
    "from pyspark.ml.recommendation import ALS\n",
    "from pyspark.ml.evaluation import RegressionEvaluator\n",
    "from pyspark.sql.types import IntegerType, FloatType ,DateType\n",
    "from pyspark.ml.feature import StringIndexer\n",
    "from pyspark.ml import Pipeline\n",
    "from pyspark.ml.clustering import KMeans"
   ]
  },
  {
   "cell_type": "code",
   "execution_count": 2,
   "id": "07a23ec8",
   "metadata": {},
   "outputs": [],
   "source": [
    "spark = SparkSession.builder.config('spark.executor.memory','4G').appName('recommend').config('spark.driver.cores','4') \\\n",
    ".config('spark.driver.memory','4G') \\\n",
    ".config('spark.driver.maxResultSize','4G').getOrCreate()\n",
    "df=spark.read.csv('C:/Users/PC/Downloads/stores.csv',header=True,inferSchema=True)"
   ]
  },
  {
   "cell_type": "code",
   "execution_count": 3,
   "id": "acd53672",
   "metadata": {},
   "outputs": [],
   "source": [
    "from pyspark.ml.feature import VectorAssembler\n",
    "from pyspark.ml.feature import StandardScaler"
   ]
  },
  {
   "cell_type": "code",
   "execution_count": 4,
   "id": "f3513e1d",
   "metadata": {},
   "outputs": [],
   "source": [
    "columns=['Store_Area',\n",
    " 'Items_Available',\n",
    " 'Daily_Customer_Count',\n",
    " 'Store_Sales']"
   ]
  },
  {
   "cell_type": "code",
   "execution_count": 5,
   "id": "3379b459",
   "metadata": {},
   "outputs": [],
   "source": [
    "assemler=VectorAssembler(inputCols=columns,outputCol='features')"
   ]
  },
  {
   "cell_type": "code",
   "execution_count": 6,
   "id": "545c8489",
   "metadata": {},
   "outputs": [
    {
     "name": "stdout",
     "output_type": "stream",
     "text": [
      "root\n",
      " |-- Store ID : integer (nullable = true)\n",
      " |-- Store_Area: integer (nullable = true)\n",
      " |-- Items_Available: integer (nullable = true)\n",
      " |-- Daily_Customer_Count: integer (nullable = true)\n",
      " |-- Store_Sales: integer (nullable = true)\n",
      " |-- features: vector (nullable = true)\n",
      " |-- scalerfeatures: vector (nullable = true)\n",
      "\n"
     ]
    }
   ],
   "source": [
    "df=assemler.transform(df)\n",
    "scaler = StandardScaler(inputCol='features',outputCol='scalerfeatures')\n",
    "scaler_model=scaler.fit(df)\n",
    "df=scaler_model.transform(df)\n",
    "df.printSchema()"
   ]
  },
  {
   "cell_type": "code",
   "execution_count": 24,
   "id": "5b84ccd2",
   "metadata": {},
   "outputs": [
    {
     "name": "stdout",
     "output_type": "stream",
     "text": [
      "+----------+-----+\n",
      "|prediction|count|\n",
      "+----------+-----+\n",
      "|         1|  218|\n",
      "|         3|  212|\n",
      "|         2|  204|\n",
      "|         0|  262|\n",
      "+----------+-----+\n",
      "\n"
     ]
    }
   ],
   "source": [
    "kmeans=KMeans(featuresCol='scalerfeatures',k=4)\n",
    "model_df=kmeans.fit(df)\n",
    "model_df.transform(df).groupBy('prediction').count().show()"
   ]
  },
  {
   "cell_type": "code",
   "execution_count": null,
   "id": "a98c1fde",
   "metadata": {},
   "outputs": [],
   "source": []
  }
 ],
 "metadata": {
  "kernelspec": {
   "display_name": "Python 3 (ipykernel)",
   "language": "python",
   "name": "python3"
  },
  "language_info": {
   "codemirror_mode": {
    "name": "ipython",
    "version": 3
   },
   "file_extension": ".py",
   "mimetype": "text/x-python",
   "name": "python",
   "nbconvert_exporter": "python",
   "pygments_lexer": "ipython3",
   "version": "3.10.4"
  }
 },
 "nbformat": 4,
 "nbformat_minor": 5
}
