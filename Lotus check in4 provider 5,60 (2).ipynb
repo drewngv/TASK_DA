{
 "cells": [
  {
   "cell_type": "code",
   "execution_count": 1,
   "id": "e65700e0",
   "metadata": {},
   "outputs": [],
   "source": [
    "import re\n",
    "import pandas as pd\n",
    "from datetime import datetime, timedelta\n",
    "import pyspark.sql.functions as F\n",
    "from pyspark.sql.functions import *\n",
    "from pyspark.sql.functions import json_tuple\n",
    "from pyspark.sql.window import Window\n",
    "from pyspark.sql.functions import row_number\n",
    "from pyspark.sql import SparkSession\n",
    "from pyspark.sql import functions as func\n",
    "import numpy as np\n",
    "import json\n",
    "import os\n",
    "from calendar import monthrange\n",
    "import pymysql\n",
    "import sys \n",
    "import requests\n",
    "import matplotlib.pyplot as plt"
   ]
  },
  {
   "cell_type": "code",
   "execution_count": 2,
   "id": "553ef268",
   "metadata": {},
   "outputs": [],
   "source": [
    "spark = SparkSession .builder .master('yarn').config('spark.executor.memory','2G')\\\n",
    ".appName('es_mysql')\\\n",
    ".config('spark.driver.cores','1').config('spark.driver.memory','2G')\\\n",
    ".config('spark.executor.cores', '1')\\\n",
    ".config('spark.yarn.queue','mlbigdata')\\\n",
    ".enableHiveSupport()\\\n",
    ".getOrCreate() "
   ]
  },
  {
   "cell_type": "code",
   "execution_count": 3,
   "id": "d31f54c6",
   "metadata": {},
   "outputs": [],
   "source": [
    "with open(\"/data/khanhnq01/file/config.json\") as json_data_file:\n",
    "    cfg = json.load(json_data_file)"
   ]
  },
  {
   "cell_type": "code",
   "execution_count": 4,
   "id": "4d61d745",
   "metadata": {},
   "outputs": [],
   "source": [
    "def get_df(app):\n",
    "    df_hdf=[]\n",
    "    date_index = pd.date_range(start=date_start,end=date_end)\n",
    "    for i in date_index:\n",
    "        dt = i.date()\n",
    "        path = cfg['hdfs_log_path']['master1'] + str(dt)\n",
    "        df_dt = spark.read.parquet(f\"{path}\").where((F.col('appId').contains(app)))\n",
    "        df_dt = df_dt.withColumn('date',F.lit(dt))\n",
    "        df_hdf.append(df_dt)\n",
    "    i = 0\n",
    "    df_spark = df_hdf[0]\n",
    "    while i < len(df_hdf)-1:\n",
    "        df_spark = df_spark.unionAll(df_hdf[i+1])\n",
    "        i+=1\n",
    "    df_new = df_spark\n",
    "    df_action = df_new.select('date','eventId','provider','userId')\n",
    "    return df_action"
   ]
  },
  {
   "cell_type": "code",
   "execution_count": 5,
   "id": "141ab9b1",
   "metadata": {},
   "outputs": [
    {
     "name": "stdout",
     "output_type": "stream",
     "text": [
      "+----------+-------+--------+-----------------+\n",
      "|      date|eventId|provider|           userId|\n",
      "+----------+-------+--------+-----------------+\n",
      "|2022-05-14|      7|      -1|18477149983981644|\n",
      "|2022-05-14|     22|      26|18140916401121745|\n",
      "|2022-05-14|     25|      -1|18622656454465292|\n",
      "|2022-05-14|      7|      -1|18477149983981644|\n",
      "|2022-05-14|     11|      -1|69764280505319987|\n",
      "|2022-05-14|   2008|      -1|18022740485541629|\n",
      "|2022-05-14|     32|      -1|67867142583206745|\n",
      "|2022-05-14|     22|      51|34742365042148063|\n",
      "|2022-05-14|     32|      -1|48454592159985325|\n",
      "|2022-05-14|   2008|      -1|63737400014370874|\n",
      "|2022-05-14|      2|      -1|31626662570017485|\n",
      "|2022-05-14|     22|       6|65471857748851746|\n",
      "|2022-05-14|     22|      26|13613824577097438|\n",
      "|2022-05-14|      7|      -1|18477149983981644|\n",
      "|2022-05-14|      2|      -1|18520014728318526|\n",
      "|2022-05-14|   2008|      -1|18022740485541629|\n",
      "|2022-05-14|     32|      -1|75001925987206845|\n",
      "|2022-05-14|      7|      -1|18477149983981644|\n",
      "|2022-05-14|   2008|      -1|18022740485541629|\n",
      "|2022-05-14|      2|      -1|34646498068038247|\n",
      "+----------+-------+--------+-----------------+\n",
      "only showing top 20 rows\n",
      "\n"
     ]
    }
   ],
   "source": [
    "date_end = '2022-06-14'\n",
    "date_start = '2022-05-14'\n",
    "df = get_df('viva') \n",
    "df.show()"
   ]
  },
  {
   "cell_type": "code",
   "execution_count": 13,
   "id": "3d317505",
   "metadata": {},
   "outputs": [],
   "source": [
    "df2=df.filter((df['provider']==5)|(df['provider']==60))"
   ]
  },
  {
   "cell_type": "code",
   "execution_count": 14,
   "id": "d03e80dc",
   "metadata": {},
   "outputs": [
    {
     "data": {
      "text/html": [
       "<div>\n",
       "<style scoped>\n",
       "    .dataframe tbody tr th:only-of-type {\n",
       "        vertical-align: middle;\n",
       "    }\n",
       "\n",
       "    .dataframe tbody tr th {\n",
       "        vertical-align: top;\n",
       "    }\n",
       "\n",
       "    .dataframe thead th {\n",
       "        text-align: right;\n",
       "    }\n",
       "</style>\n",
       "<table border=\"1\" class=\"dataframe\">\n",
       "  <thead>\n",
       "    <tr style=\"text-align: right;\">\n",
       "      <th></th>\n",
       "      <th>date</th>\n",
       "      <th>eventId</th>\n",
       "      <th>provider</th>\n",
       "      <th>userId</th>\n",
       "    </tr>\n",
       "  </thead>\n",
       "  <tbody>\n",
       "    <tr>\n",
       "      <th>0</th>\n",
       "      <td>2022-05-14</td>\n",
       "      <td>22</td>\n",
       "      <td>5</td>\n",
       "      <td>34647140562069573</td>\n",
       "    </tr>\n",
       "    <tr>\n",
       "      <th>1</th>\n",
       "      <td>2022-05-14</td>\n",
       "      <td>22</td>\n",
       "      <td>5</td>\n",
       "      <td>105895031465579068</td>\n",
       "    </tr>\n",
       "    <tr>\n",
       "      <th>2</th>\n",
       "      <td>2022-05-14</td>\n",
       "      <td>22</td>\n",
       "      <td>5</td>\n",
       "      <td>36136688108339867</td>\n",
       "    </tr>\n",
       "    <tr>\n",
       "      <th>3</th>\n",
       "      <td>2022-05-14</td>\n",
       "      <td>22</td>\n",
       "      <td>60</td>\n",
       "      <td>18527905363894597</td>\n",
       "    </tr>\n",
       "    <tr>\n",
       "      <th>4</th>\n",
       "      <td>2022-05-14</td>\n",
       "      <td>14</td>\n",
       "      <td>60</td>\n",
       "      <td>35563920604168709</td>\n",
       "    </tr>\n",
       "    <tr>\n",
       "      <th>...</th>\n",
       "      <td>...</td>\n",
       "      <td>...</td>\n",
       "      <td>...</td>\n",
       "      <td>...</td>\n",
       "    </tr>\n",
       "    <tr>\n",
       "      <th>143435</th>\n",
       "      <td>2022-06-14</td>\n",
       "      <td>22</td>\n",
       "      <td>60</td>\n",
       "      <td>34831358441502901</td>\n",
       "    </tr>\n",
       "    <tr>\n",
       "      <th>143436</th>\n",
       "      <td>2022-06-14</td>\n",
       "      <td>22</td>\n",
       "      <td>5</td>\n",
       "      <td>37896180753187306</td>\n",
       "    </tr>\n",
       "    <tr>\n",
       "      <th>143437</th>\n",
       "      <td>2022-06-14</td>\n",
       "      <td>14</td>\n",
       "      <td>60</td>\n",
       "      <td>18485317533540457</td>\n",
       "    </tr>\n",
       "    <tr>\n",
       "      <th>143438</th>\n",
       "      <td>2022-06-14</td>\n",
       "      <td>22</td>\n",
       "      <td>5</td>\n",
       "      <td>18516632804639527</td>\n",
       "    </tr>\n",
       "    <tr>\n",
       "      <th>143439</th>\n",
       "      <td>2022-06-14</td>\n",
       "      <td>14</td>\n",
       "      <td>60</td>\n",
       "      <td>50934609124175557</td>\n",
       "    </tr>\n",
       "  </tbody>\n",
       "</table>\n",
       "<p>143440 rows × 4 columns</p>\n",
       "</div>"
      ],
      "text/plain": [
       "              date  eventId provider              userId\n",
       "0       2022-05-14       22        5   34647140562069573\n",
       "1       2022-05-14       22        5  105895031465579068\n",
       "2       2022-05-14       22        5   36136688108339867\n",
       "3       2022-05-14       22       60   18527905363894597\n",
       "4       2022-05-14       14       60   35563920604168709\n",
       "...            ...      ...      ...                 ...\n",
       "143435  2022-06-14       22       60   34831358441502901\n",
       "143436  2022-06-14       22        5   37896180753187306\n",
       "143437  2022-06-14       14       60   18485317533540457\n",
       "143438  2022-06-14       22        5   18516632804639527\n",
       "143439  2022-06-14       14       60   50934609124175557\n",
       "\n",
       "[143440 rows x 4 columns]"
      ]
     },
     "execution_count": 14,
     "metadata": {},
     "output_type": "execute_result"
    }
   ],
   "source": [
    "df_pd=df2.toPandas()\n",
    "df_pd"
   ]
  },
  {
   "cell_type": "code",
   "execution_count": 15,
   "id": "c8844131",
   "metadata": {},
   "outputs": [],
   "source": [
    "df_pd['provider']=df_pd['provider'].astype('int')\n",
    "df_pd['date']= pd.to_datetime(df_pd['date'])"
   ]
  },
  {
   "cell_type": "code",
   "execution_count": 17,
   "id": "63fb0175",
   "metadata": {
    "scrolled": true
   },
   "outputs": [
    {
     "data": {
      "text/plain": [
       "6401"
      ]
     },
     "execution_count": 17,
     "metadata": {},
     "output_type": "execute_result"
    }
   ],
   "source": [
    "df_provider1=df_pd[(df_pd['date'] > '2022-05-31')]\n",
    "df_provider1['userId'].nunique()"
   ]
  },
  {
   "cell_type": "markdown",
   "id": "0ea9c14e",
   "metadata": {},
   "source": [
    "#### Cho thấy là các user có provider 5,60 đều là các user cũ ,nhóm user này có 6401 user, từ 1/6-14/6"
   ]
  },
  {
   "cell_type": "code",
   "execution_count": 18,
   "id": "527baf9b",
   "metadata": {},
   "outputs": [
    {
     "data": {
      "text/plain": [
       "22      52993\n",
       "14      18628\n",
       "4         502\n",
       "4023      397\n",
       "3001      387\n",
       "2         386\n",
       "4002      369\n",
       "4025      239\n",
       "21        166\n",
       "3007      144\n",
       "20        129\n",
       "3003       55\n",
       "4028       11\n",
       "4004        4\n",
       "4029        3\n",
       "4003        2\n",
       "4015        1\n",
       "Name: eventId, dtype: int64"
      ]
     },
     "execution_count": 18,
     "metadata": {},
     "output_type": "execute_result"
    }
   ],
   "source": [
    "df_provider1['eventId'].value_counts()"
   ]
  },
  {
   "cell_type": "code",
   "execution_count": 22,
   "id": "0d0851b0",
   "metadata": {},
   "outputs": [],
   "source": [
    "df_provider2=df_pd[(df_pd['date']>'2022-05-13')&(df_pd['date']<'2022-06-01')]"
   ]
  },
  {
   "cell_type": "markdown",
   "id": "acf73426",
   "metadata": {},
   "source": [
    "#### Active,action của nhóm user tiếp cận provider 5,60 tăng  từ 14/5-1/6 :\n",
    "+ Chủ yếu là cuộn qua bài viết\n",
    "+ Sau đó là đọc sapo và click xem thêm"
   ]
  },
  {
   "cell_type": "code",
   "execution_count": 21,
   "id": "4a1c2e39",
   "metadata": {},
   "outputs": [
    {
     "data": {
      "text/plain": [
       "22      3623308\n",
       "14      1312544\n",
       "3001      28838\n",
       "4         27150\n",
       "4025      26394\n",
       "2         24975\n",
       "4023      13477\n",
       "21        11082\n",
       "20        10390\n",
       "4002       8748\n",
       "3007       4751\n",
       "3003        801\n",
       "4029        254\n",
       "4003        244\n",
       "4028         34\n",
       "4010         30\n",
       "4006          4\n",
       "Name: eventId_x, dtype: int64"
      ]
     },
     "execution_count": 21,
     "metadata": {},
     "output_type": "execute_result"
    }
   ],
   "source": [
    "final_df = df_provider2.merge(df_provider1,how='inner',on='userId')\n",
    "final_df['eventId_x'].value_counts()"
   ]
  }
 ],
 "metadata": {
  "kernelspec": {
   "display_name": "Python 3",
   "language": "python",
   "name": "python3"
  },
  "language_info": {
   "codemirror_mode": {
    "name": "ipython",
    "version": 3
   },
   "file_extension": ".py",
   "mimetype": "text/x-python",
   "name": "python",
   "nbconvert_exporter": "python",
   "pygments_lexer": "ipython3",
   "version": "3.6.13"
  }
 },
 "nbformat": 4,
 "nbformat_minor": 5
}
