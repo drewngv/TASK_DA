{
 "cells": [
  {
   "cell_type": "markdown",
   "id": "900cda2d",
   "metadata": {},
   "source": [
    "### Phân bố của doanh thu và số lượng theo từng mặt hàng"
   ]
  },
  {
   "cell_type": "code",
   "execution_count": 1,
   "id": "569e3c38",
   "metadata": {},
   "outputs": [],
   "source": [
    "import pandas as pd \n",
    "import matplotlib.pyplot as plt\n",
    "import datetime \n",
    "import numpy as np\n",
    "df=pd.read_csv(\"C:/Users/PC/Downloads/supermarket_sales.csv\")\n",
    "yangon=df.groupby('city').get_group('Yangon')\n",
    "mandalay=df.groupby('city').get_group('Mandalay')\n",
    "naypyitaw=df.groupby('city').get_group('Naypyitaw')"
   ]
  },
  {
   "cell_type": "markdown",
   "id": "90c4595e",
   "metadata": {},
   "source": [
    "####  Tương quan giữa lợi nhuận, thuế, doanh thu và lượng hàng kh mua tại cửa hàng"
   ]
  },
  {
   "cell_type": "code",
   "execution_count": 2,
   "id": "21ecdc57",
   "metadata": {},
   "outputs": [
    {
     "data": {
      "text/html": [
       "<div>\n",
       "<style scoped>\n",
       "    .dataframe tbody tr th:only-of-type {\n",
       "        vertical-align: middle;\n",
       "    }\n",
       "\n",
       "    .dataframe tbody tr th {\n",
       "        vertical-align: top;\n",
       "    }\n",
       "\n",
       "    .dataframe thead th {\n",
       "        text-align: right;\n",
       "    }\n",
       "</style>\n",
       "<table border=\"1\" class=\"dataframe\">\n",
       "  <thead>\n",
       "    <tr style=\"text-align: right;\">\n",
       "      <th></th>\n",
       "      <th>quantity</th>\n",
       "      <th>tax</th>\n",
       "      <th>cost</th>\n",
       "      <th>profit</th>\n",
       "    </tr>\n",
       "  </thead>\n",
       "  <tbody>\n",
       "    <tr>\n",
       "      <th>quantity</th>\n",
       "      <td>1.000000</td>\n",
       "      <td>0.938035</td>\n",
       "      <td>0.938035</td>\n",
       "      <td>0.938035</td>\n",
       "    </tr>\n",
       "    <tr>\n",
       "      <th>tax</th>\n",
       "      <td>0.938035</td>\n",
       "      <td>1.000000</td>\n",
       "      <td>1.000000</td>\n",
       "      <td>1.000000</td>\n",
       "    </tr>\n",
       "    <tr>\n",
       "      <th>cost</th>\n",
       "      <td>0.938035</td>\n",
       "      <td>1.000000</td>\n",
       "      <td>1.000000</td>\n",
       "      <td>1.000000</td>\n",
       "    </tr>\n",
       "    <tr>\n",
       "      <th>profit</th>\n",
       "      <td>0.938035</td>\n",
       "      <td>1.000000</td>\n",
       "      <td>1.000000</td>\n",
       "      <td>1.000000</td>\n",
       "    </tr>\n",
       "  </tbody>\n",
       "</table>\n",
       "</div>"
      ],
      "text/plain": [
       "          quantity       tax      cost    profit\n",
       "quantity  1.000000  0.938035  0.938035  0.938035\n",
       "tax       0.938035  1.000000  1.000000  1.000000\n",
       "cost      0.938035  1.000000  1.000000  1.000000\n",
       "profit    0.938035  1.000000  1.000000  1.000000"
      ]
     },
     "execution_count": 2,
     "metadata": {},
     "output_type": "execute_result"
    }
   ],
   "source": [
    "sum_corr= yangon.groupby('product_line').sum()\n",
    "sum_corr.drop(['unit_price','gross_margin_percentage','rating'],axis=1).corr()"
   ]
  },
  {
   "cell_type": "markdown",
   "id": "48d88d18",
   "metadata": {},
   "source": [
    "####  Lợi nhuận trung bình "
   ]
  },
  {
   "cell_type": "code",
   "execution_count": 3,
   "id": "9746f7c6",
   "metadata": {},
   "outputs": [
    {
     "data": {
      "text/plain": [
       "2.791174047186933"
      ]
     },
     "execution_count": 3,
     "metadata": {},
     "output_type": "execute_result"
    }
   ],
   "source": [
    "df['profit'].sum()/df['quantity'].sum()"
   ]
  },
  {
   "cell_type": "code",
   "execution_count": 4,
   "id": "64416939",
   "metadata": {
    "scrolled": true
   },
   "outputs": [
    {
     "data": {
      "text/plain": [
       "city\n",
       "Mandalay     2.778589\n",
       "Naypyitaw    2.875574\n",
       "Yangon       2.720366\n",
       "dtype: float64"
      ]
     },
     "execution_count": 4,
     "metadata": {},
     "output_type": "execute_result"
    }
   ],
   "source": [
    "def profit_mean(x,y):\n",
    "    return x/y \n",
    "df.groupby('city').sum().apply(lambda x:profit_mean(x.profit,x.quantity),axis=1)"
   ]
  },
  {
   "cell_type": "markdown",
   "id": "c1e7799b",
   "metadata": {},
   "source": [
    "#### Phân bố của lợi nhuận và doanh thu "
   ]
  },
  {
   "cell_type": "markdown",
   "id": "b43d0fd7",
   "metadata": {},
   "source": [
    "##### Lợi nhuận thu được phần lớn đạt dưới 25 đô/sản phẩm "
   ]
  },
  {
   "cell_type": "code",
   "execution_count": 5,
   "id": "60fd5547",
   "metadata": {
    "scrolled": true
   },
   "outputs": [
    {
     "data": {
      "text/plain": [
       "(array([233., 215., 146., 110.,  91.,  68.,  45.,  51.,  25.,  16.]),\n",
       " array([ 0.5085 ,  5.42265, 10.3368 , 15.25095, 20.1651 , 25.07925,\n",
       "        29.9934 , 34.90755, 39.8217 , 44.73585, 49.65   ]),\n",
       " <BarContainer object of 10 artists>)"
      ]
     },
     "execution_count": 5,
     "metadata": {},
     "output_type": "execute_result"
    },
    {
     "data": {
      "image/png": "[encoded data removed]",
      "text/plain": [
       "<Figure size 432x288 with 1 Axes>"
      ]
     },
     "metadata": {
      "needs_background": "light"
     },
     "output_type": "display_data"
    }
   ],
   "source": [
    "profit=df['profit'].tolist()\n",
    "cost=df['cost'].tolist()\n",
    "plt.ylabel('Tần suất')\n",
    "plt.title('Phân bố lợi nhuận')\n",
    "plt.hist(profit)"
   ]
  },
  {
   "cell_type": "markdown",
   "id": "0a64cf68",
   "metadata": {},
   "source": [
    "##### Doanh thu đạt được tập trung nhiều vào nhóm sản phẩm có mức giá dưới 400 đô "
   ]
  },
  {
   "cell_type": "code",
   "execution_count": 6,
   "id": "e479bb4f",
   "metadata": {},
   "outputs": [
    {
     "data": {
      "text/plain": [
       "(array([233., 215., 146., 110.,  91.,  68.,  45.,  51.,  25.,  16.]),\n",
       " array([ 10.17 , 108.453, 206.736, 305.019, 403.302, 501.585, 599.868,\n",
       "        698.151, 796.434, 894.717, 993.   ]),\n",
       " <BarContainer object of 10 artists>)"
      ]
     },
     "execution_count": 6,
     "metadata": {},
     "output_type": "execute_result"
    },
    {
     "data": {
      "image/png": "[encoded data removed]",
      "text/plain": [
       "<Figure size 432x288 with 1 Axes>"
      ]
     },
     "metadata": {
      "needs_background": "light"
     },
     "output_type": "display_data"
    }
   ],
   "source": [
    "plt.ylabel('Tần suất')\n",
    "plt.title('Phân bố doanh thu')\n",
    "plt.hist(cost)"
   ]
  },
  {
   "cell_type": "markdown",
   "id": "01d28bf8",
   "metadata": {},
   "source": [
    "#### Phân bố của doanh thu và số lượng theo từng mặt hàng\n"
   ]
  },
  {
   "cell_type": "markdown",
   "id": "15304ba4",
   "metadata": {},
   "source": [
    "##### Phân bố theo doanh thu theo từng mặt hàng \n",
    "+ Electronic accessories :tập trung nhiều vào nhóm sản phẩm có mức giá dưới 300 đô/sản phẩm\n",
    "+ Fashion accessories :tập trung nhiều vào nhóm sản phẩm có mức giá dưới 200 đô/sản phẩm\n",
    "+ Food and beverages :tập trung nhiều vào nhóm sản phẩm có mức giá dưới 300 đô/sản phẩm\n",
    "+ Health and beauty: tập trung nhiều vào nhóm sản phẩm có mức giá dưới 300 đô/sản phẩm\n",
    "+ Home and lifestyle: tập trung nhiều vào nhóm sản phẩm có mức giá dưới 300 đô/sản phẩm\n",
    "+ Sports and travel: tập trung nhiều vào nhóm sản phẩm có mức giá dưới 400 đô/sản phẩm\n"
   ]
  },
  {
   "cell_type": "code",
   "execution_count": 7,
   "id": "ff19c758",
   "metadata": {},
   "outputs": [
    {
     "data": {
      "image/png": "[encoded data removed]",
      "text/plain": [
       "<Figure size 432x288 with 6 Axes>"
      ]
     },
     "metadata": {
      "needs_background": "light"
     },
     "output_type": "display_data"
    }
   ],
   "source": [
    "EA=df[df['product_line']=='Electronic accessories']['cost']\n",
    "FA=df[df['product_line']=='Fashion accessories']['cost']\n",
    "FB=df[df['product_line']=='Food and beverages']['cost']\n",
    "HB=df[df['product_line']=='Health and beauty']['cost']\n",
    "HL=df[df['product_line']=='Home and lifestyle']['cost']\n",
    "ST=df[df['product_line']=='Sports and travel']['cost']\n",
    "data=[EA,FA,FB,HB,HL,ST]\n",
    "titles = ['Electronic accessories','Fashion accessories','Food and beverages','Health and beauty','Home and lifestyle','Sports and travel']\n",
    "f,a = plt.subplots(3,2)\n",
    "a = a.ravel()\n",
    "for idx,ax in enumerate(a):\n",
    "    ax.hist(data[idx])\n",
    "    ax.set_title(titles[idx])\n",
    "f.tight_layout()\n",
    "plt.show()"
   ]
  },
  {
   "cell_type": "markdown",
   "id": "c559a8ba",
   "metadata": {},
   "source": [
    "#### Phân bố theo số lượng theo từng mặt hàng \n"
   ]
  },
  {
   "cell_type": "markdown",
   "id": "02da4c16",
   "metadata": {},
   "source": [
    "+ Electronic accessories : khách hàng thường sẽ mua ít nhất từ 3 đến 8 sản phẩm đối với loại mặt hàng này cho mỗi lần mua \n",
    "+ Fashion accessories : phần trăm khách hàng mua trên 4 sản phẩm đối với loại mặt hàng này không cao\n",
    "+ Food and beverages : khách hàng thường sẽ mua ít nhất từ 3 đến 8 sản phẩm đối với loại mặt hàng này cho mỗi lần mua\n",
    "+ Health and beauty: lượng mua trải đều trong mỗi lần mua từ 2-9 sản phẩm\n",
    "+ Home and lifestyle: tỉ lệ mua từ 6-9 sản phẩm trên mỗi lần mua lớn đối với loại mặt hàng này\n",
    "+ Sports and travel: không đều,đạt tốt nhất với mức mua ở 7 và 10 sản phẩm đối với loại mặt hàng này"
   ]
  },
  {
   "cell_type": "code",
   "execution_count": 8,
   "id": "96c7d157",
   "metadata": {},
   "outputs": [
    {
     "data": {
      "image/png": "[encoded data removed]",
      "text/plain": [
       "<Figure size 432x288 with 6 Axes>"
      ]
     },
     "metadata": {
      "needs_background": "light"
     },
     "output_type": "display_data"
    }
   ],
   "source": [
    "EA=df[df['product_line']=='Electronic accessories']['quantity']\n",
    "FA=df[df['product_line']=='Fashion accessories']['quantity']\n",
    "FB=df[df['product_line']=='Food and beverages']['quantity']\n",
    "HB=df[df['product_line']=='Health and beauty']['quantity']\n",
    "HL=df[df['product_line']=='Home and lifestyle']['quantity']\n",
    "ST=df[df['product_line']=='Sports and travel']['quantity']\n",
    "data=[EA,FA,FB,HB,HL,ST]\n",
    "titles = ['Electronic accessories','Fashion accessories','Food and beverages','Health and beauty','Home and lifestyle','Sports and travel']\n",
    "f,a = plt.subplots(3,2)\n",
    "a = a.ravel()\n",
    "for idx,ax in enumerate(a):\n",
    "    ax.hist(data[idx])\n",
    "    ax.set_title(titles[idx])\n",
    "f.tight_layout()\n",
    "plt.show()"
   ]
  },
  {
   "cell_type": "code",
   "execution_count": null,
   "id": "3716e2e7",
   "metadata": {},
   "outputs": [],
   "source": []
  }
 ],
 "metadata": {
  "kernelspec": {
   "display_name": "Python 3 (ipykernel)",
   "language": "python",
   "name": "python3"
  },
  "language_info": {
   "codemirror_mode": {
    "name": "ipython",
    "version": 3
   },
   "file_extension": ".py",
   "mimetype": "text/x-python",
   "name": "python",
   "nbconvert_exporter": "python",
   "pygments_lexer": "ipython3",
   "version": "3.10.4"
  }
 },
 "nbformat": 4,
 "nbformat_minor": 5
}
