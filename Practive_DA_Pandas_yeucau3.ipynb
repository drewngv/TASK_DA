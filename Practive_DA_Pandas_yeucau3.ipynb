{
 "cells": [
  {
   "cell_type": "code",
   "execution_count": 1,
   "id": "5704df2d",
   "metadata": {},
   "outputs": [],
   "source": [
    "import pandas as pd \n",
    "import matplotlib.pyplot as plt\n",
    "import numpy as np\n",
    "import seaborn as sns\n",
    "import datetime \n",
    "import pylab\n",
    "import scipy.stats as stats\n",
    "from scipy.stats import norm\n",
    "from scipy.stats import chisquare\n",
    "from scipy.stats import chi2_contingency\n",
    "df=pd.read_csv(\"C:/Users/PC/Downloads/practiceDA.csv\")"
   ]
  },
  {
   "cell_type": "markdown",
   "id": "99cb4095",
   "metadata": {},
   "source": [
    "### Task 1 \n",
    "Ho là thu nhập trung bình khác 14000"
   ]
  },
  {
   "cell_type": "code",
   "execution_count": 22,
   "id": "a2f26662",
   "metadata": {},
   "outputs": [
    {
     "data": {
      "text/plain": [
       "-0.6277984453628374"
      ]
     },
     "execution_count": 22,
     "metadata": {},
     "output_type": "execute_result"
    }
   ],
   "source": [
    "z_score = (-14000+df.income.mean())/(5000/np.sqrt(len(df.income)))\n",
    "z_score"
   ]
  },
  {
   "cell_type": "markdown",
   "id": "9b4c1fc7",
   "metadata": {},
   "source": [
    "z.0.05=1.645 , z_score k thuộc miền bác bỏ nên thu nhập trung bình của khách hàng khác 14000"
   ]
  },
  {
   "cell_type": "markdown",
   "id": "12db06eb",
   "metadata": {},
   "source": [
    "### Task 2 "
   ]
  },
  {
   "cell_type": "code",
   "execution_count": 21,
   "id": "826196e3",
   "metadata": {},
   "outputs": [
    {
     "data": {
      "text/plain": [
       "11.858532354212112"
      ]
     },
     "execution_count": 21,
     "metadata": {},
     "output_type": "execute_result"
    }
   ],
   "source": [
    "n2 = len(df[df.gender == 'female'])\n",
    "n1 = len(df[df.gender == 'male'])\n",
    "mean_1 = df[df.gender == 'male']['income'].mean()\n",
    "mean_2 =df[df.gender == 'female']['income'].mean()\n",
    "sigma1_square = 7000*7000\n",
    "sigma2_square = 5000*5000\n",
    "z_score = (mean_1-mean_2)/np.sqrt((sigma1_square/n1)+(sigma2_square/n2))\n",
    "z_score "
   ]
  },
  {
   "cell_type": "markdown",
   "id": "7269afac",
   "metadata": {},
   "source": [
    "z_0.05=1.645 < z_score, không đủ bằng chứng để kết luận thu nhập của nam cao hơn của nữ\n"
   ]
  },
  {
   "cell_type": "markdown",
   "id": "e3aa54bf",
   "metadata": {},
   "source": [
    "### Task 3"
   ]
  },
  {
   "cell_type": "code",
   "execution_count": 19,
   "id": "e63895f1",
   "metadata": {},
   "outputs": [
    {
     "name": "stdout",
     "output_type": "stream",
     "text": [
      "giá trị p 0.007373867945841888\n",
      " bác bỏ giả thuyết Ho\n"
     ]
    }
   ],
   "source": [
    "tset, pval = stats.ttest_1samp (df.income, 13000)\n",
    "print ('giá trị p', pval)\n",
    "if pval <0.05:  # alpha là 0,05 hoặc 5% \n",
    "    print (\" bác bỏ giả thuyết Ho\") \n",
    "else: \n",
    "    print (\"Chấp nhận giả thuyết Ho\")"
   ]
  },
  {
   "cell_type": "markdown",
   "id": "65481c57",
   "metadata": {},
   "source": [
    "##### Với khẳng định trung bình thu nhập là 13000 thì là sai "
   ]
  },
  {
   "cell_type": "markdown",
   "id": "be2a4140",
   "metadata": {},
   "source": [
    "### Task 4 "
   ]
  },
  {
   "cell_type": "code",
   "execution_count": 17,
   "id": "45892502",
   "metadata": {},
   "outputs": [
    {
     "name": "stdout",
     "output_type": "stream",
     "text": [
      "giá trị p 8.758653500007178e-26\n",
      " bác bỏ giả thuyết Ho\n"
     ]
    }
   ],
   "source": [
    "tset, pval = stats.ttest_ind(df[df.gender == 'female']['income'], df[df.gender =='male']['income'])\n",
    "print ('giá trị p', pval)\n",
    "if pval <0.05:  # alpha là 0,05 hoặc 5% \n",
    "    print (\" bác bỏ giả thuyết Ho\") \n",
    "else: \n",
    "    print (\"Chấp nhận giả thuyết Ho\")"
   ]
  },
  {
   "cell_type": "markdown",
   "id": "9a460e58",
   "metadata": {},
   "source": [
    "##### Có thể kết luận rằng thu nhập trung bình của nam khác trung bình thu nhập của nữ\n"
   ]
  },
  {
   "cell_type": "markdown",
   "id": "66b320ff",
   "metadata": {},
   "source": [
    "### Task 5 "
   ]
  },
  {
   "cell_type": "markdown",
   "id": "ab29ace9",
   "metadata": {},
   "source": [
    "##### Xét giả thiết thống kê Ho : Không có mối quan hệ  giữa 2 biến age_group và degree với mức alpha được chọn là 0.05"
   ]
  },
  {
   "cell_type": "code",
   "execution_count": 14,
   "id": "4cb03f84",
   "metadata": {},
   "outputs": [
    {
     "name": "stdout",
     "output_type": "stream",
     "text": [
      "p value is 1.717625046407707e-17\n",
      "Bác bỏ giả thiết Ho\n"
     ]
    }
   ],
   "source": [
    "df2 = pd.crosstab(df['age_group'],df['degree'])\n",
    "stat, p, dof, expected = chi2_contingency(df2)\n",
    "alpha = 0.05\n",
    "print(\"p value is \" + str(p))\n",
    "if p <= alpha:\n",
    "    print('Bác bỏ giả thiết Ho')\n",
    "else:\n",
    "    print('Chấp nhận giả thiết Ho')"
   ]
  },
  {
   "cell_type": "markdown",
   "id": "5ce6d54a",
   "metadata": {},
   "source": [
    "##### Có mối liên quan giữa 2 biến age_group và degree "
   ]
  },
  {
   "cell_type": "markdown",
   "id": "de89aa04",
   "metadata": {},
   "source": [
    "### Task 6"
   ]
  },
  {
   "cell_type": "code",
   "execution_count": 15,
   "id": "d78a94ac",
   "metadata": {},
   "outputs": [
    {
     "data": {
      "text/plain": [
       "officer    239\n",
       "sale       217\n",
       "manager     44\n",
       "Name: job, dtype: int64"
      ]
     },
     "execution_count": 15,
     "metadata": {},
     "output_type": "execute_result"
    }
   ],
   "source": [
    "df['job'].value_counts()"
   ]
  },
  {
   "cell_type": "markdown",
   "id": "e877d214",
   "metadata": {},
   "source": [
    "### Task 7"
   ]
  },
  {
   "cell_type": "code",
   "execution_count": 16,
   "id": "f6f2ea15",
   "metadata": {},
   "outputs": [
    {
     "data": {
      "image/png": "[encoded data removed]",
      "text/plain": [
       "<Figure size 432x288 with 1 Axes>"
      ]
     },
     "metadata": {
      "needs_background": "light"
     },
     "output_type": "display_data"
    }
   ],
   "source": [
    "stats.probplot(df['age'], dist=\"norm\", plot=pylab)\n",
    "pylab.show()"
   ]
  },
  {
   "cell_type": "markdown",
   "id": "facd43a8",
   "metadata": {},
   "source": [
    "##### Biểu đồ QQ-plot cho thấy rằng biến 'age' không thể là phân phối chuẩn"
   ]
  }
 ],
 "metadata": {
  "kernelspec": {
   "display_name": "Python 3 (ipykernel)",
   "language": "python",
   "name": "python3"
  },
  "language_info": {
   "codemirror_mode": {
    "name": "ipython",
    "version": 3
   },
   "file_extension": ".py",
   "mimetype": "text/x-python",
   "name": "python",
   "nbconvert_exporter": "python",
   "pygments_lexer": "ipython3",
   "version": "3.10.4"
  }
 },
 "nbformat": 4,
 "nbformat_minor": 5
}
