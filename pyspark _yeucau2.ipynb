{
 "cells": [
  {
   "cell_type": "code",
   "execution_count": 1,
   "id": "1c231a6e",
   "metadata": {},
   "outputs": [],
   "source": [
    "import findspark \n",
    "findspark.init()\n",
    "findspark.find()\n",
    "from pyspark.sql.types import IntegerType, FloatType ,DateType\n",
    "from pyspark.sql import SparkSession\n",
    "import pyspark.sql.functions as F\n",
    "from pyspark.sql.functions import *\n",
    "import matplotlib.pyplot as plt\n",
    "import numpy as np\n",
    "import seaborn as sns\n",
    "import pandas as pd\n",
    "from datetime import datetime\n",
    "from functools import reduce \n",
    "from pyspark.sql import DataFrame"
   ]
  },
  {
   "cell_type": "code",
   "execution_count": 2,
   "id": "c0568878",
   "metadata": {},
   "outputs": [],
   "source": [
    "spark = SparkSession \\\n",
    "    .builder \\\n",
    "    .appName(\"pyspark2 \") \\\n",
    "    .config(\"spark.some.config.option\", \"some-value\") \\\n",
    "    .getOrCreate()"
   ]
  },
  {
   "cell_type": "code",
   "execution_count": 3,
   "id": "3bfbe815",
   "metadata": {},
   "outputs": [],
   "source": [
    "df = spark.read.csv(\"C:/Users/PC/Downloads/practiceDA.csv\", header =True)\n",
    "df= df.withColumn('Code', F.col('Code').cast(IntegerType()))\\\n",
    "        .withColumn('age', F.col('age').cast(IntegerType()))\\\n",
    "        .withColumn('year_of_school',F.col('year_of_school').cast(IntegerType()))\\\n",
    "        .withColumn('know_english', F.col('know_english').cast(IntegerType()))\\\n",
    "        .withColumn('know_france', F.col('know_france').cast(IntegerType()))\\\n",
    "        .withColumn('know_chinese', F.col('know_chinese').cast(IntegerType()))\\\n",
    "        .withColumn('income', F.col('income').cast(IntegerType()))\\\n",
    "        .withColumn('flight_status', F.col('flight_status').cast(IntegerType()))\\\n",
    "        .withColumn('professionally_staff', F.col('professionally_staff').cast(IntegerType()))\\\n",
    "        .withColumn('customer_service ', F.col('customer_service ').cast(IntegerType()))\\\n",
    "        .withColumn('diversity_product', F.col('diversity_product').cast(IntegerType()))\\\n",
    "        .withColumn('good_price', F.col('good_price').cast(IntegerType()))\\\n",
    "        .withColumn('easily_transaction', F.col('easily_transaction').cast(IntegerType()))\\\n",
    "        .withColumn('goodlooking_staff', F.col('goodlooking_staff').cast(IntegerType()))\\\n",
    "        .withColumn('diversity_flighttime', F.col('diversity_flighttime').cast(IntegerType()))\\\n",
    "        .withColumn('good_construction', F.col('good_construction').cast(IntegerType()))"
   ]
  },
  {
   "cell_type": "markdown",
   "id": "783a150c",
   "metadata": {},
   "source": [
    "### Task 1 "
   ]
  },
  {
   "cell_type": "code",
   "execution_count": 4,
   "id": "2029b623",
   "metadata": {},
   "outputs": [
    {
     "data": {
      "text/plain": [
       "<AxesSubplot:>"
      ]
     },
     "execution_count": 4,
     "metadata": {},
     "output_type": "execute_result"
    },
    {
     "data": {
      "image/png": "[encoded data removed]",
      "text/plain": [
       "<Figure size 432x288 with 2 Axes>"
      ]
     },
     "metadata": {
      "needs_background": "light"
     },
     "output_type": "display_data"
    }
   ],
   "source": [
    "data = df.toPandas() \n",
    "dic={'age': data['age'].tolist(),'income': data['income'].tolist(),'year_of_school':data['year_of_school'].tolist()}\n",
    "sns.heatmap(pd.DataFrame(data=dic).corr(),annot=True,cmap='coolwarm')"
   ]
  },
  {
   "cell_type": "markdown",
   "id": "fe8085f2",
   "metadata": {},
   "source": [
    "### Task 2 "
   ]
  },
  {
   "cell_type": "code",
   "execution_count": 5,
   "id": "34f20b98",
   "metadata": {},
   "outputs": [
    {
     "name": "stdout",
     "output_type": "stream",
     "text": [
      "+----------------+-----------+\n",
      "|income condition|count(Code)|\n",
      "+----------------+-----------+\n",
      "|     high income|        121|\n",
      "|      low income|         85|\n",
      "|   medium income|        294|\n",
      "+----------------+-----------+\n",
      "\n"
     ]
    }
   ],
   "source": [
    "df = df.withColumn(\"income condition\", when(df.income < 9000,\"low income\")\n",
    "                                 .when(df.income.between(9000,15000),\"medium income\")\n",
    "                                 .when(df.income >15000 ,\"high income\")\n",
    "                                 .otherwise(df.income))\n",
    "df.groupby('income condition').agg({'Code':'count'}).show()"
   ]
  },
  {
   "cell_type": "markdown",
   "id": "061f05e3",
   "metadata": {},
   "source": [
    "### Task 3 "
   ]
  },
  {
   "cell_type": "code",
   "execution_count": 6,
   "id": "88cf1929",
   "metadata": {},
   "outputs": [
    {
     "name": "stdout",
     "output_type": "stream",
     "text": [
      "+------------------+\n",
      "|  range_day_flight|\n",
      "+------------------+\n",
      "| INTERVAL '25' DAY|\n",
      "| INTERVAL '47' DAY|\n",
      "| INTERVAL '97' DAY|\n",
      "|INTERVAL '106' DAY|\n",
      "|INTERVAL '168' DAY|\n",
      "|INTERVAL '314' DAY|\n",
      "|INTERVAL '308' DAY|\n",
      "| INTERVAL '63' DAY|\n",
      "| INTERVAL '63' DAY|\n",
      "|INTERVAL '310' DAY|\n",
      "| INTERVAL '24' DAY|\n",
      "| INTERVAL '26' DAY|\n",
      "| INTERVAL '25' DAY|\n",
      "| INTERVAL '47' DAY|\n",
      "|INTERVAL '104' DAY|\n",
      "| INTERVAL '58' DAY|\n",
      "| INTERVAL '16' DAY|\n",
      "| INTERVAL '46' DAY|\n",
      "| INTERVAL '47' DAY|\n",
      "| INTERVAL '58' DAY|\n",
      "+------------------+\n",
      "only showing top 20 rows\n",
      "\n"
     ]
    }
   ],
   "source": [
    "func =  udf (lambda x: datetime.strptime(x, '%d/%m/%Y'), DateType())\n",
    "df = df.withColumn('booking_date', func(col('booking_date')))\\\n",
    "    .withColumn('flight_date',func(col('flight_date')))\n",
    "df = df.withColumn('range_day_flight', (df['flight_date'] - df['booking_date']))                             \n",
    "df.select(df['range_day_flight']).show()                            "
   ]
  },
  {
   "cell_type": "markdown",
   "id": "1cd914b1",
   "metadata": {},
   "source": [
    "### Task 4 "
   ]
  },
  {
   "cell_type": "code",
   "execution_count": 7,
   "id": "dbf0b038",
   "metadata": {},
   "outputs": [
    {
     "name": "stdout",
     "output_type": "stream",
     "text": [
      "+---------+\n",
      "|subsidize|\n",
      "+---------+\n",
      "|   1662.5|\n",
      "|    348.0|\n",
      "|    555.0|\n",
      "|    570.0|\n",
      "|    375.0|\n",
      "|    456.0|\n",
      "|    513.0|\n",
      "|    429.0|\n",
      "|    816.0|\n",
      "|    549.0|\n",
      "|    570.0|\n",
      "|    450.0|\n",
      "|    333.0|\n",
      "|    483.0|\n",
      "|    480.0|\n",
      "|   1135.0|\n",
      "|    489.0|\n",
      "|    438.0|\n",
      "|    666.0|\n",
      "|    393.0|\n",
      "+---------+\n",
      "only showing top 20 rows\n",
      "\n"
     ]
    }
   ],
   "source": [
    "fm_df=df.filter(df['gender']=='female')\n",
    "fm_df=fm_df.withColumn('subsidize',df['income']*0.05)\n",
    "fm_df.select(fm_df['subsidize']).show()"
   ]
  },
  {
   "cell_type": "markdown",
   "id": "a8ba9fdc",
   "metadata": {},
   "source": [
    "### Task 5 "
   ]
  },
  {
   "cell_type": "code",
   "execution_count": 8,
   "id": "ea92afc3",
   "metadata": {},
   "outputs": [
    {
     "name": "stdout",
     "output_type": "stream",
     "text": [
      "+--------------+\n",
      "|reality income|\n",
      "+--------------+\n",
      "|       11100.0|\n",
      "|       16140.0|\n",
      "|       10020.0|\n",
      "|       23760.0|\n",
      "|       10680.0|\n",
      "|       17950.0|\n",
      "|        8700.0|\n",
      "|       11220.0|\n",
      "|       14400.0|\n",
      "|       14100.0|\n",
      "|        9600.0|\n",
      "|       10020.0|\n",
      "|       19200.0|\n",
      "|       14100.0|\n",
      "|       33500.0|\n",
      "|       41400.0|\n",
      "|       15660.0|\n",
      "|       30000.0|\n",
      "|       20000.0|\n",
      "|       27500.0|\n",
      "+--------------+\n",
      "only showing top 20 rows\n",
      "\n"
     ]
    }
   ],
   "source": [
    "fm_df=fm_df.withColumn('reality income',(fm_df['income']+fm_df['subsidize'])).drop(fm_df['subsidize'])\n",
    "m_df=df.filter(df['gender']=='male')\n",
    "m_df=m_df.withColumn('reality income',df['income'])\n",
    "m_df=m_df.drop(m_df['range_day_flight'])\n",
    "fm_df=fm_df.drop(fm_df['range_day_flight'])\n",
    "def unionAll(*dfs):\n",
    "    return reduce(DataFrame.unionAll, dfs)\n",
    "final_df=unionAll(m_df,fm_df)\n",
    "final_df.select(final_df['reality income']).show()"
   ]
  },
  {
   "cell_type": "markdown",
   "id": "57e34e68",
   "metadata": {},
   "source": [
    "### Task 6 "
   ]
  },
  {
   "cell_type": "code",
   "execution_count": 12,
   "id": "6740542e",
   "metadata": {},
   "outputs": [
    {
     "name": "stdout",
     "output_type": "stream",
     "text": [
      "+-------------------+\n",
      "|personal income tax|\n",
      "+-------------------+\n",
      "|  777.0000000000001|\n",
      "| 1129.8000000000002|\n",
      "|  701.4000000000001|\n",
      "|             1663.2|\n",
      "|              747.6|\n",
      "| 1256.5000000000002|\n",
      "|              435.0|\n",
      "|  785.4000000000001|\n",
      "| 1008.0000000000001|\n",
      "|  987.0000000000001|\n",
      "|              480.0|\n",
      "|  701.4000000000001|\n",
      "| 1344.0000000000002|\n",
      "|  987.0000000000001|\n",
      "|             3350.0|\n",
      "|             4140.0|\n",
      "|             1096.2|\n",
      "|             2100.0|\n",
      "| 1400.0000000000002|\n",
      "| 1925.0000000000002|\n",
      "+-------------------+\n",
      "only showing top 20 rows\n",
      "\n"
     ]
    }
   ],
   "source": [
    "final_df = final_df.withColumn(\"Tax_percent\", when(final_df.income < 10000,0.05)\n",
    "                                 .when(final_df.income.between(10000,30000),0.07)\n",
    "                                 .when(final_df.income >30000 ,0.1)\n",
    "                                 .otherwise(final_df.income))\n",
    "final_df=final_df.withColumn('personal income tax',(final_df['reality income']*final_df['tax_percent']))\n",
    "final_df.select(final_df['personal income tax']).show()"
   ]
  },
  {
   "cell_type": "markdown",
   "id": "7dc60cd1",
   "metadata": {},
   "source": [
    "### Task 7 "
   ]
  },
  {
   "cell_type": "code",
   "execution_count": 14,
   "id": "d5e06969",
   "metadata": {},
   "outputs": [
    {
     "data": {
      "text/plain": [
       "Text(0.5, 1.0, 'Thống kê số lượng đặt vé mỗi tháng năm 2013')"
      ]
     },
     "execution_count": 14,
     "metadata": {},
     "output_type": "execute_result"
    },
    {
     "data": {
      "image/png": "[encoded data removed]",
      "text/plain": [
       "<Figure size 432x288 with 1 Axes>"
      ]
     },
     "metadata": {
      "needs_background": "light"
     },
     "output_type": "display_data"
    }
   ],
   "source": [
    "data.booking_date = pd.to_datetime(data['booking_date'], format='%d/%m/%Y')\n",
    "data.flight_date = pd.to_datetime(data['flight_date'], format='%d/%m/%Y')\n",
    "data['month']=data['booking_date'].dt.month\n",
    "ax=data.groupby('month')['Code'].count().plot.bar()\n",
    "for i in ax.containers:\n",
    "    ax.bar_label(i)\n",
    "plt.xlabel('Tháng')\n",
    "plt.ylabel('Số lượng đặt vé')\n",
    "plt.title('Thống kê số lượng đặt vé mỗi tháng năm 2013')"
   ]
  },
  {
   "cell_type": "code",
   "execution_count": null,
   "id": "adf3427f",
   "metadata": {},
   "outputs": [],
   "source": []
  }
 ],
 "metadata": {
  "kernelspec": {
   "display_name": "Python 3 (ipykernel)",
   "language": "python",
   "name": "python3"
  },
  "language_info": {
   "codemirror_mode": {
    "name": "ipython",
    "version": 3
   },
   "file_extension": ".py",
   "mimetype": "text/x-python",
   "name": "python",
   "nbconvert_exporter": "python",
   "pygments_lexer": "ipython3",
   "version": "3.10.4"
  }
 },
 "nbformat": 4,
 "nbformat_minor": 5
}
